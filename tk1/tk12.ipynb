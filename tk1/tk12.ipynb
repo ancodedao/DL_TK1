{
 "cells": [
  {
   "cell_type": "code",
   "execution_count": 3,
   "metadata": {},
   "outputs": [],
   "source": [
    "import pandas as pd\n"
   ]
  },
  {
   "cell_type": "code",
   "execution_count": 4,
   "metadata": {},
   "outputs": [
    {
     "name": "stderr",
     "output_type": "stream",
     "text": [
      "c:\\Users\\ICT\\AppData\\Local\\Programs\\Python\\Python312\\Lib\\site-packages\\sklearn\\base.py:493: UserWarning: X does not have valid feature names, but RandomForestRegressor was fitted with feature names\n",
      "  warnings.warn(\n"
     ]
    },
    {
     "data": {
      "text/plain": [
       "({'Random Forest Regressor': 0.36463399999999635,\n",
       "  'SVR': 0.27350445814152724,\n",
       "  'Hồi quy tuyến tính': 0.4461635818382685},\n",
       " [(8.531999999999998, 3893), (8.430000000000001, 901)])"
      ]
     },
     "execution_count": 4,
     "metadata": {},
     "output_type": "execute_result"
    }
   ],
   "source": [
    "import pandas as pd\n",
    "from sklearn.model_selection import train_test_split\n",
    "from sklearn.preprocessing import LabelEncoder\n",
    "from sklearn.ensemble import RandomForestRegressor\n",
    "from sklearn.svm import SVR\n",
    "from sklearn.linear_model import LinearRegression\n",
    "from sklearn.metrics import mean_squared_error\n",
    "\n",
    "# Đọc file Excel và load sheet \"Dulieu0205\"\n",
    "df=pd.read_excel('Processed_THONGKESVISHOCTUCHON.xlsx',sheet_name='Dulieu0205')\n",
    "# Lấy danh sách sinh viên duy nhất\n",
    "unique_students = df['IDSinhVien'].unique()\n",
    "\n",
    "# Chọn một sinh viên để dự đoán (ví dụ: sinh viên đầu tiên)\n",
    "selected_student_id = unique_students[0]\n",
    "student_data = df[df['IDSinhVien'] == selected_student_id]\n",
    "\n",
    "# Chỉ giữ lại các cột cần thiết cho việc dự đoán: 'MaMonHoc', 'HK', 'DiemTongKet'\n",
    "student_data = student_data[['MaMonHoc', 'HK', 'DiemTongKet']]\n",
    "\n",
    "# Mã hóa cột 'MaMonHoc' thành các giá trị số\n",
    "label_encoder = LabelEncoder()\n",
    "student_data['MaMonHoc_Encoded'] = label_encoder.fit_transform(student_data['MaMonHoc'])\n",
    "\n",
    "# Chuẩn bị dữ liệu đầu vào (features) và nhãn (labels)\n",
    "X = student_data[['HK', 'MaMonHoc_Encoded']]\n",
    "y = student_data['DiemTongKet']\n",
    "\n",
    "# Chia dữ liệu thành tập huấn luyện và tập kiểm tra (80% huấn luyện, 20% kiểm tra)\n",
    "X_train, X_test, y_train, y_test = train_test_split(X, y, test_size=0.2, random_state=42)\n",
    "\n",
    "# Khởi tạo các mô hình hồi quy\n",
    "regression_models = {\n",
    "    \"Random Forest Regressor\": RandomForestRegressor(),\n",
    "    \"SVR\": SVR(),\n",
    "    \"Hồi quy tuyến tính\": LinearRegression()\n",
    "}\n",
    "\n",
    "# Huấn luyện các mô hình và tính toán Mean Squared Error (MSE)\n",
    "mse_scores = {}\n",
    "\n",
    "for model_name, model in regression_models.items():\n",
    "    model.fit(X_train, y_train)\n",
    "    y_pred = model.predict(X_test)\n",
    "    mse = mean_squared_error(y_test, y_pred)\n",
    "    mse_scores[model_name] = mse\n",
    "\n",
    "# Dự đoán các môn học cho học kỳ tiếp theo\n",
    "next_semester_hk = student_data['HK'].max() + 1\n",
    "predicted_scores = regression_models[\"Random Forest Regressor\"].predict(\n",
    "    [[next_semester_hk, i] for i in range(len(label_encoder.classes_))]\n",
    ")\n",
    "\n",
    "# Lấy 2 môn học có điểm dự đoán cao nhất\n",
    "top_2_predicted = sorted(zip(predicted_scores, label_encoder.inverse_transform(range(len(predicted_scores)))), reverse=True)[:2]\n",
    "\n",
    "# In ra kết quả\n",
    "mse_scores, top_2_predicted"
   ]
  },
  {
   "cell_type": "code",
   "execution_count": null,
   "metadata": {},
   "outputs": [],
   "source": []
  }
 ],
 "metadata": {
  "kernelspec": {
   "display_name": "Python 3",
   "language": "python",
   "name": "python3"
  },
  "language_info": {
   "codemirror_mode": {
    "name": "ipython",
    "version": 3
   },
   "file_extension": ".py",
   "mimetype": "text/x-python",
   "name": "python",
   "nbconvert_exporter": "python",
   "pygments_lexer": "ipython3",
   "version": "3.12.2"
  }
 },
 "nbformat": 4,
 "nbformat_minor": 2
}
